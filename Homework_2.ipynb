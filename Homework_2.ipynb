{
 "cells": [
  {
   "cell_type": "code",
   "execution_count": 1,
   "id": "41493e8e-49ce-4c5f-bf83-9be691020af3",
   "metadata": {},
   "outputs": [
    {
     "name": "stdout",
     "output_type": "stream",
     "text": [
      "My computer has gone crazy and added extra symbols.\n"
     ]
    }
   ],
   "source": [
    "1. \n",
    "asterisk = 'My *compu*ter has go*ne craz***y an*d add*ed extra *symbols.'\n",
    "\n",
    "cleaned_string = ''\n",
    "for char in asterisk:\n",
    "    if char != '*':\n",
    "        cleaned_string += char\n",
    "\n",
    "print(cleaned_string)\n"
   ]
  },
  {
   "cell_type": "code",
   "execution_count": 2,
   "id": "6b081d06-bc4c-43fa-a961-17cd01b924f1",
   "metadata": {},
   "outputs": [
    {
     "name": "stdout",
     "output_type": "stream",
     "text": [
      "0\n",
      "1\n",
      "2\n",
      "3\n",
      "4\n",
      "5\n",
      "6\n",
      "Loop finished.\n"
     ]
    }
   ],
   "source": [
    "2.\n",
    "counter = 0\n",
    "\n",
    "while counter < 7:\n",
    "    print(counter)\n",
    "    counter += 1\n",
    "\n",
    "print(\"Loop finished.\")\n"
   ]
  },
  {
   "cell_type": "code",
   "execution_count": 3,
   "id": "bbb3c22f-435d-4560-b032-5e27cca67f05",
   "metadata": {},
   "outputs": [
    {
     "name": "stdout",
     "output_type": "stream",
     "text": [
      "['apple', 'banana', ['orange'], 'kiwi', ['grape', 'pineapple']]\n"
     ]
    }
   ],
   "source": [
    "3.\n",
    "double_trouble = ['apple', 'banana', ['mosquito', 'orange'], 'kiwi', ['grape', 'mosquito', 'pineapple']]\n",
    "\n",
    "for i, element in enumerate(double_trouble):\n",
    "    if isinstance(element, list):\n",
    "        double_trouble[i] = [fruit for fruit in element if fruit != 'mosquito']\n",
    "    elif element == 'mosquito':\n",
    "        double_trouble.pop(i)\n",
    "\n",
    "print(double_trouble)\n"
   ]
  },
  {
   "cell_type": "code",
   "execution_count": 4,
   "id": "ac41c233-3ed8-468f-9897-be698fbcafc7",
   "metadata": {},
   "outputs": [
    {
     "name": "stdout",
     "output_type": "stream",
     "text": [
      "The sum of 4 and 6 is 10.\n",
      "The result of subtracting 3 from 7 is 4.\n",
      "Input is not integers.\n"
     ]
    }
   ],
   "source": [
    "4.\n",
    "def process_numbers(num1, num2):\n",
    "    # Check if both numbers are integers\n",
    "    if not isinstance(num1, int) or not isinstance(num2, int):\n",
    "        return \"Input is not integers.\"\n",
    "# both even\n",
    "    if num1 % 2 == 0 and num2 % 2 == 0:\n",
    "        result = num1 + num2\n",
    "        return f\"The sum of {num1} and {num2} is {result}.\"\n",
    "\n",
    "#both odd\n",
    "    result = num1 - num2\n",
    "    return f\"The result of subtracting {num2} from {num1} is {result}.\"\n",
    "\n",
    "# Example \n",
    "result1 = process_numbers(4, 6) \n",
    "print(result1)\n",
    "\n",
    "result2 = process_numbers(7, 3) \n",
    "print(result2)\n",
    "\n",
    "result3 = process_numbers(5, \"invalid\")  \n",
    "print(result3)\n"
   ]
  },
  {
   "cell_type": "code",
   "execution_count": 5,
   "id": "9fa14e8e-8eaf-46ed-bd2d-a2f8c0835b55",
   "metadata": {},
   "outputs": [
    {
     "name": "stdout",
     "output_type": "stream",
     "text": [
      "* * * * * * * * * \n",
      "* * * * * * * * \n",
      "* * * * * * * \n",
      "* * * * * * \n",
      "* * * * * \n",
      "* * * * \n",
      "* * * \n",
      "* * \n",
      "* \n",
      "\n",
      "\n",
      "* \n",
      "* * \n",
      "* * * \n",
      "* * * * \n",
      "* * * * * \n",
      "* * * * * * \n",
      "* * * * * * * \n",
      "* * * * * * * * \n",
      "* * * * * * * * * \n"
     ]
    }
   ],
   "source": [
    "5.\n",
    "def triangles(n, direction):\n",
    "    if direction == \"base-up\":\n",
    "        for i in range(n, 0, -1):\n",
    "            print(\"* \" * i)\n",
    "    elif direction == \"base-down\":\n",
    "        for i in range(1, n+1):\n",
    "            print(\"* \" * i)\n",
    "\n",
    "n_value = 9\n",
    "direction_value = \"base-up\"\n",
    "triangles(n_value, direction_value)\n",
    "\n",
    "print(\"\\n\")\n",
    "\n",
    "direction_value = \"base-down\"\n",
    "triangles(n_value, direction_value)\n"
   ]
  },
  {
   "cell_type": "code",
   "execution_count": 6,
   "id": "fba9937c-6c05-43ec-8397-4e164aa20c24",
   "metadata": {},
   "outputs": [
    {
     "name": "stdout",
     "output_type": "stream",
     "text": [
      "30\n"
     ]
    }
   ],
   "source": [
    "6.\n",
    "class Person():\n",
    "    \n",
    "    def __init__(self, name, occupation, country, age):\n",
    "        self.name = name\n",
    "        self.occupation = occupation\n",
    "        self.country = country\n",
    "        self.age = age\n",
    "\n",
    "person_instance = Person(name=\"joey fallon\", occupation=\"chef\", country=\"USA\", age=30)\n",
    "\n",
    "print(person_instance.age)\n"
   ]
  },
  {
   "cell_type": "code",
   "execution_count": 7,
   "id": "cb1cad5f-392d-4056-8c04-0a2661e13494",
   "metadata": {},
   "outputs": [
    {
     "name": "stdout",
     "output_type": "stream",
     "text": [
      "Meryl Streep: This is my line...\n",
      "This is a static method for introducing actresses.\n"
     ]
    }
   ],
   "source": [
    "7.\n",
    "class actress():\n",
    "    def __init__(self, name='Meryl Streep'):\n",
    "        self.name = name\n",
    "\n",
    "    def act(self, line):\n",
    "        print(f'{self.name}: {line}')\n",
    "\n",
    "    @staticmethod\n",
    "    def introduction():\n",
    "        print(\"This is a static method for introducing actresses.\")\n",
    "\n",
    "# Instantiate an object\n",
    "meryl = actress()\n",
    "\n",
    "# Call the act method\n",
    "meryl.act('This is my line...')\n",
    "\n",
    "# Call the static method introduction\n",
    "actress.introduction()\n",
    "\n",
    "# a static methhod is a way of calling a class and assigning them a seperate description"
   ]
  },
  {
   "cell_type": "code",
   "execution_count": 8,
   "id": "a750ed45-f8de-47d0-b9ce-0866d9b3b98b",
   "metadata": {},
   "outputs": [
    {
     "name": "stdout",
     "output_type": "stream",
     "text": [
      "Roll results: [3, 1, 3]\n"
     ]
    }
   ],
   "source": [
    "8.\n",
    "from random import randrange\n",
    "\n",
    "class Dice:\n",
    "    def __init__(self, number_of_dice):\n",
    "        self.number_of_dice = number_of_dice\n",
    "        self.dice = []\n",
    "\n",
    "    def roll(self):\n",
    "        self.dice = [randrange(1, 7) for _ in range(self.number_of_dice)]\n",
    "        print(f\"Roll results: {self.dice}\")\n",
    "\n",
    "dice_instance = Dice(number_of_dice=3)\n",
    "\n",
    "dice_instance.roll()\n"
   ]
  },
  {
   "cell_type": "code",
   "execution_count": null,
   "id": "9dc8b856-d370-4cde-a5ca-d449b7a2d2bf",
   "metadata": {},
   "outputs": [],
   "source": []
  },
  {
   "cell_type": "code",
   "execution_count": null,
   "id": "bc116604-1c4b-4a78-b195-84ee4a4e89e7",
   "metadata": {},
   "outputs": [],
   "source": []
  },
  {
   "cell_type": "code",
   "execution_count": null,
   "id": "7755335d-7409-44ff-963d-c45d0403337e",
   "metadata": {},
   "outputs": [],
   "source": []
  },
  {
   "cell_type": "code",
   "execution_count": null,
   "id": "1e826b92-6c0d-4226-a104-a9328a4bdc1a",
   "metadata": {},
   "outputs": [],
   "source": []
  },
  {
   "cell_type": "code",
   "execution_count": null,
   "id": "7db77dd4-0d8d-4991-ae20-7a8a084862bf",
   "metadata": {},
   "outputs": [],
   "source": []
  },
  {
   "cell_type": "code",
   "execution_count": null,
   "id": "ff35ab30-bfba-4530-9f09-c2e03cfaafc5",
   "metadata": {},
   "outputs": [],
   "source": []
  },
  {
   "cell_type": "code",
   "execution_count": null,
   "id": "9f9dac12-079d-4231-bc2c-13000cbc0183",
   "metadata": {},
   "outputs": [],
   "source": []
  },
  {
   "cell_type": "code",
   "execution_count": null,
   "id": "9bc70d85-70f6-4195-8edf-306e260280b4",
   "metadata": {},
   "outputs": [],
   "source": []
  }
 ],
 "metadata": {
  "kernelspec": {
   "display_name": "Python 3 (ipykernel)",
   "language": "python",
   "name": "python3"
  },
  "language_info": {
   "codemirror_mode": {
    "name": "ipython",
    "version": 3
   },
   "file_extension": ".py",
   "mimetype": "text/x-python",
   "name": "python",
   "nbconvert_exporter": "python",
   "pygments_lexer": "ipython3",
   "version": "3.12.1"
  }
 },
 "nbformat": 4,
 "nbformat_minor": 5
}
