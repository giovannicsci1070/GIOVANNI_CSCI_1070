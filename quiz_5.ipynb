{
 "cells": [
  {
   "cell_type": "code",
   "execution_count": 5,
   "metadata": {},
   "outputs": [
    {
     "name": "stdout",
     "output_type": "stream",
     "text": [
      "[2, 4, 6, 8, 10, 12, -11, -9, -7, -5, -3, -1]\n"
     ]
    }
   ],
   "source": [
    "original_list = [-1,2,-3,4,-5,6,-7,8,-9,10,-11,12]\n",
    "\n",
    "original_list = sorted(original_list, key = lambda i: 0 if i == 0 else -1/i)\n",
    "print(original_list)"
   ]
  },
  {
   "cell_type": "code",
   "execution_count": null,
   "metadata": {},
   "outputs": [],
   "source": []
  },
  {
   "cell_type": "code",
   "execution_count": 9,
   "metadata": {},
   "outputs": [
    {
     "name": "stdout",
     "output_type": "stream",
     "text": [
      "        Show Number    Air Date             Round  \\\n",
      "0              4680  12/31/2004         Jeopardy!   \n",
      "1              4680  12/31/2004         Jeopardy!   \n",
      "2              4680  12/31/2004         Jeopardy!   \n",
      "3              4680  12/31/2004         Jeopardy!   \n",
      "4              4680  12/31/2004         Jeopardy!   \n",
      "...             ...         ...               ...   \n",
      "216925         4999   5/11/2006  Double Jeopardy!   \n",
      "216926         4999   5/11/2006  Double Jeopardy!   \n",
      "216927         4999   5/11/2006  Double Jeopardy!   \n",
      "216928         4999   5/11/2006  Double Jeopardy!   \n",
      "216929         4999   5/11/2006   Final Jeopardy!   \n",
      "\n",
      "                               Category    Value  \\\n",
      "0                               HISTORY    $200    \n",
      "1       ESPN's TOP 10 ALL-TIME ATHLETES    $200    \n",
      "2           EVERYBODY TALKS ABOUT IT...    $200    \n",
      "3                      THE COMPANY LINE    $200    \n",
      "4                   EPITAPHS & TRIBUTES    $200    \n",
      "...                                 ...      ...   \n",
      "216925                   RIDDLE ME THIS  $2,000    \n",
      "216926                        \"T\" BIRDS  $2,000    \n",
      "216927           AUTHORS IN THEIR YOUTH  $2,000    \n",
      "216928                       QUOTATIONS  $2,000    \n",
      "216929                   HISTORIC NAMES      NaN   \n",
      "\n",
      "                                                 Question  \\\n",
      "0       For the last 8 years of his life, Galileo was ...   \n",
      "1       No. 2: 1912 Olympian; football star at Carlisl...   \n",
      "2       The city of Yuma in this state has a record av...   \n",
      "3       In 1963, live on \"The Art Linkletter Show\", th...   \n",
      "4       Signer of the Dec. of Indep., framer of the Co...   \n",
      "...                                                   ...   \n",
      "216925  This Puccini opera turns on the solution to 3 ...   \n",
      "216926  In North America this term is properly applied...   \n",
      "216927  In Penny Lane, where this \"Hellraiser\" grew up...   \n",
      "216928  From Ft. Sill, Okla. he made the plea, Arizona...   \n",
      "216929  A silent movie title includes the last name of...   \n",
      "\n",
      "                                Answer  \n",
      "0                           Copernicus  \n",
      "1                           Jim Thorpe  \n",
      "2                              Arizona  \n",
      "3                           McDonald's  \n",
      "4                           John Adams  \n",
      "...                                ...  \n",
      "216925                        Turandot  \n",
      "216926                      a titmouse  \n",
      "216927                    Clive Barker  \n",
      "216928                        Geronimo  \n",
      "216929  Grigori Alexandrovich Potemkin  \n",
      "\n",
      "[216930 rows x 7 columns]\n"
     ]
    }
   ],
   "source": [
    "import numpy as np\n",
    "import pandas as pd\n",
    "\n",
    "data_df = pd.read_csv(\"JEOPARDY_DATA.csv\")\n",
    "print(data_df)\n",
    "data_df.columns = data_df.columns.str.strip()\n",
    "data_df = pd.get_dummies(data_df, columns=['Round'])\n",
    "data_df['Value']=data_df['Value'].str.replace('$','').str.replace(' ','').str.replace(',','')\n",
    "data_df['Value']=data_df['Value'].astype(float)"
   ]
  }
 ],
 "metadata": {
  "kernelspec": {
   "display_name": "Python 3",
   "language": "python",
   "name": "python3"
  },
  "language_info": {
   "codemirror_mode": {
    "name": "ipython",
    "version": 3
   },
   "file_extension": ".py",
   "mimetype": "text/x-python",
   "name": "python",
   "nbconvert_exporter": "python",
   "pygments_lexer": "ipython3",
   "version": "3.8.9"
  }
 },
 "nbformat": 4,
 "nbformat_minor": 2
}
