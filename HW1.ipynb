{
 "cells": [
  {
   "cell_type": "code",
   "execution_count": null,
   "id": "aa91d06e-e80c-4847-a437-512324f31cf8",
   "metadata": {},
   "outputs": [],
   "source": [
    "1. #How can you get more information about a function or an object from inside a jupyter cell?\n",
    "# by using def:"
   ]
  },
  {
   "cell_type": "code",
   "execution_count": null,
   "id": "f8b73840-2621-4abc-86ce-8f3d8db5f018",
   "metadata": {},
   "outputs": [],
   "source": [
    "2. #How can you determine the data type of an object?\n",
    "# by using the surrounding parenthasis or brackets "
   ]
  },
  {
   "cell_type": "code",
   "execution_count": null,
   "id": "0fd7aa3c-42bd-466d-a821-11eb6b5cdd86",
   "metadata": {},
   "outputs": [],
   "source": [
    "#foo = 'bar'\n",
    "# assignment is a way to store values in a function "
   ]
  },
  {
   "cell_type": "code",
   "execution_count": null,
   "id": "575c02b1-32f0-4c62-89e3-a92602ccf7f8",
   "metadata": {},
   "outputs": [],
   "source": [
    "# I think the best way to store an assortment of items is a list \n",
    "#my_list = [\"pencil\", \"pen\", \"paper\"]"
   ]
  },
  {
   "cell_type": "code",
   "execution_count": null,
   "id": "15062d51-ec2b-4e73-8a64-896135f24495",
   "metadata": {},
   "outputs": [],
   "source": [
    "# the best way to store an assortment of names and telephone numbers is a dictionary\n",
    "#my_dict= {\"carlton\":\"314-602-8003\",\"windsor\":\"201-753-6520\"}"
   ]
  },
  {
   "cell_type": "code",
   "execution_count": null,
   "id": "9fcb07d9-a176-47e8-988f-c98a79d1e7e9",
   "metadata": {},
   "outputs": [],
   "source": [
    "6. # it is a bad isea because position zero on list1 is set and will be rewritten as well as on list2"
   ]
  },
  {
   "cell_type": "code",
   "execution_count": null,
   "id": "7a7272d4-850f-4123-8377-15b6c475a47c",
   "metadata": {},
   "outputs": [],
   "source": [
    "7. #truthy falsey is a way to sort values as either true or false \n",
    "#falseypants:[]\n",
    "#if falseypants:\n",
    "#    print(\"The list is truthy.\")\n",
    "#else:\n",
    "#    print(\"The list is falsey.\")\n",
    "\n",
    "#truthypants = \"whats this\"\n",
    "#if truthypants:\n",
    "#    print(\"The string is truthy.\")\n",
    "#else:\n",
    "#    print(\"The string is falsey.\")\n"
   ]
  },
  {
   "cell_type": "code",
   "execution_count": null,
   "id": "a49320c8-7f2b-4846-bdef-66c635a78f2b",
   "metadata": {},
   "outputs": [],
   "source": [
    "8.\n",
    "# in dynamically typed language variables can change throughout the coding process and for statically language the variable has a set value and can not change \n",
    "\n",
    "#  python is a dynamically typed language. \n",
    "\n",
    "# its good when trying to make quick changes, flexible language \n",
    "\n",
    "# it is easier to come into errors when trying to run code"
   ]
  },
  {
   "cell_type": "code",
   "execution_count": null,
   "id": "6c28cbb8-6100-4b39-99a5-ba78f519bdb0",
   "metadata": {},
   "outputs": [],
   "source": [
    "# sum( 6, 8, 10)\n",
    "# abs(-245.94)"
   ]
  },
  {
   "cell_type": "code",
   "execution_count": null,
   "id": "81b26ddc-01ff-4fa9-9da4-ff25d6b2d539",
   "metadata": {},
   "outputs": [],
   "source": [
    "# Example integer\n",
    "#example = 7\n",
    "\n",
    "# Check if the integer is even\n",
    "#if example % 2 == 0:\n",
    "    #print(f\"{my_integer} is an even number.\")\n",
    "#else:\n",
    "   # print(f\"{my_integer} is an odd number.\")\n"
   ]
  },
  {
   "cell_type": "code",
   "execution_count": null,
   "id": "e5a7ff1f-044e-4410-add4-3f7cd1a258d2",
   "metadata": {},
   "outputs": [],
   "source": [
    "11.\n",
    "#is_greater = 10 > 5  # Evaluates to True"
   ]
  },
  {
   "cell_type": "code",
   "execution_count": null,
   "id": "e92e76fd-0482-4c08-a442-ec1b966eee2e",
   "metadata": {},
   "outputs": [],
   "source": [
    "#foo = 23\n",
    "#bar = 48 \n",
    "#is_greater = 'bar' > 'foo'"
   ]
  },
  {
   "cell_type": "code",
   "execution_count": null,
   "id": "644bb8da-7004-4e28-be8f-69724a870052",
   "metadata": {},
   "outputs": [],
   "source": [
    "#my_list = [1,2,3,4,5,6,7,8,9]\n",
    "#for i in my_list:\n",
    " #   if number == 3:\n",
    " #       print(\"three\")\n",
    " #   elif number % 2 == 0:\n",
    "  #      print(\"even\")\n",
    " #   else:\n",
    " #       print(\"odd\")"
   ]
  },
  {
   "cell_type": "code",
   "execution_count": 1,
   "id": "56ea690e-5bb5-4965-afa8-f4f7bec80f8b",
   "metadata": {},
   "outputs": [
    {
     "name": "stdout",
     "output_type": "stream",
     "text": [
      "5 is less than or equal to 8\n"
     ]
    }
   ],
   "source": [
    "#x = 5\n",
    "#y = 8\n",
    "\n",
    "#if x <= y:\n",
    " #   print(f\"{x} is less than or equal to {y}\")\n",
    "#else:\n",
    " #   print(f\"{x} is greater than {y}\")"
   ]
  },
  {
   "cell_type": "code",
   "execution_count": null,
   "id": "167e9e5d-08b3-473f-96c1-07d3f5c0ec30",
   "metadata": {},
   "outputs": [],
   "source": [
    "# floored division is devision that rounds down \n",
    "#floored = 17//5\n",
    "#print(\"floored\")\n"
   ]
  },
  {
   "cell_type": "code",
   "execution_count": null,
   "id": "f4fecbb4-b0bf-4fb3-ac84-1afb655aa013",
   "metadata": {},
   "outputs": [],
   "source": [
    "# 2cars is not proper syntax because it starts with a decimal number \n",
    "#cars2 = ('Ferrari', 'Mustang')\n"
   ]
  },
  {
   "cell_type": "code",
   "execution_count": null,
   "id": "f679cf65-e91a-4683-863d-66c28f0ce47f",
   "metadata": {},
   "outputs": [],
   "source": [
    "17. \n",
    "# the if statement is checking if the list is empty or not and its not empty so it is true and prints Hooray!"
   ]
  },
  {
   "cell_type": "code",
   "execution_count": null,
   "id": "0640e077-ea49-44dd-82bc-56ee4306f211",
   "metadata": {},
   "outputs": [],
   "source": [
    "18. \n",
    "#result = number ** 3 \n",
    "#print(\"result\")"
   ]
  },
  {
   "cell_type": "code",
   "execution_count": null,
   "id": "a583fd4d-79ea-4214-95d2-5eb7783c714e",
   "metadata": {},
   "outputs": [],
   "source": [
    "19.\n",
    "#my_var = 42\n",
    "# str(\"my_var)"
   ]
  },
  {
   "cell_type": "code",
   "execution_count": null,
   "id": "3f5dfdc4-0405-4cfc-b615-eae8c26435d3",
   "metadata": {},
   "outputs": [],
   "source": [
    "20.\n",
    "#some_string = \"The quick brown fox jumped over the lazy dog.\"\n",
    "\n",
    "#lazy_word = some_string[40:44]\n",
    "\n",
    "#print(lazy_word)"
   ]
  },
  {
   "cell_type": "code",
   "execution_count": null,
   "id": "8b157dc4-ffc4-4232-b93a-706351c609df",
   "metadata": {},
   "outputs": [],
   "source": [
    "#my_favorite_teams= ['Chiefs', 'Cardinals', 'Blues': , 'Lakers','Manchester United', 'Couch Surfing']\n"
   ]
  },
  {
   "cell_type": "code",
   "execution_count": null,
   "id": "8cc3f227-44af-4b08-a071-d15e3851d393",
   "metadata": {},
   "outputs": [],
   "source": [
    "22. \n",
    "#the dir() shows a list of names in the current scope"
   ]
  },
  {
   "cell_type": "code",
   "execution_count": null,
   "id": "2a79bc40-9c1a-461b-94fe-cf6b0804d1e1",
   "metadata": {},
   "outputs": [],
   "source": [
    "23. \n",
    "# double = number * 2"
   ]
  }
 ],
 "metadata": {
  "kernelspec": {
   "display_name": "Python 3 (ipykernel)",
   "language": "python",
   "name": "python3"
  },
  "language_info": {
   "codemirror_mode": {
    "name": "ipython",
    "version": 3
   },
   "file_extension": ".py",
   "mimetype": "text/x-python",
   "name": "python",
   "nbconvert_exporter": "python",
   "pygments_lexer": "ipython3",
   "version": "3.12.1"
  }
 },
 "nbformat": 4,
 "nbformat_minor": 5
}
